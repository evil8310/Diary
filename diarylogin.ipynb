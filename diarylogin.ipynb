{
 "cells": [
  {
   "cell_type": "code",
   "execution_count": 1,
   "metadata": {},
   "outputs": [],
   "source": [
    "import tkinter\n",
    "from tkinter import messagebox\n",
    "\n",
    "window = tkinter.Tk()\n",
    "window.title(\"Diary Login\")\n",
    "window.geometry(\"300x440\")\n",
    "window.resizable(0, 0)\n",
    "window.configure(bg='#333333')\n",
    "window.iconphoto(True, tkinter.PhotoImage(file='diary.png'))\n",
    "\n",
    "#functions\n",
    "def login():\n",
    "    username = usernameentry.get()\n",
    "    password = passwordentry.get()\n",
    "    if username == 'Azrael' and password == '1234$':\n",
    "        tkinter.messagebox.showinfo(\"Success\", \"Login Successful\")\n",
    "        window.destroy()\n",
    "        import ipynb.fs.full.diary #importing the diary jupyternotebook file\n",
    "    else:\n",
    "        tkinter.messagebox.showinfo(\"Error\", \"Incorrect Username or Password\")\n",
    "\n",
    "\n",
    "#label\n",
    "introlabel = tkinter.Label(window, text=\"Diary Login\", font=('gabriola', 30), bg='#333333', fg='#ffffff')\n",
    "usernamelabel = tkinter.Label(window, text=\"Username\", font='quicksand', bg='#333333', fg='#ffffff', height=1, width=10)\n",
    "usernameentry = tkinter.Entry(window, bg='#6b6868')\n",
    "passwordlabel = tkinter.Label(window, text=\"Password\", font='quicksand', bg='#333333', fg='#ffffff', height=1, width=10)\n",
    "passwordentry = tkinter.Entry(window, bg='#6b6868', show='*')\n",
    "loginbutton = tkinter.Button(window, text=\"Login\", bg='#5f0563', fg='#ffffff', command=login, width=10)\n",
    "\n",
    "\n",
    "#placing\n",
    "introlabel.pack(pady=20)\n",
    "usernamelabel.pack(pady=10)\n",
    "usernameentry.pack(pady=10)\n",
    "passwordlabel.pack(pady=10)\n",
    "passwordentry.pack(pady=10)\n",
    "loginbutton.pack(pady=10)\n",
    "\n",
    "\n",
    "window.mainloop()"
   ]
  }
 ],
 "metadata": {
  "kernelspec": {
   "display_name": "Python 3",
   "language": "python",
   "name": "python3"
  },
  "language_info": {
   "codemirror_mode": {
    "name": "ipython",
    "version": 3
   },
   "file_extension": ".py",
   "mimetype": "text/x-python",
   "name": "python",
   "nbconvert_exporter": "python",
   "pygments_lexer": "ipython3",
   "version": "3.11.6"
  },
  "orig_nbformat": 4
 },
 "nbformat": 4,
 "nbformat_minor": 2
}
