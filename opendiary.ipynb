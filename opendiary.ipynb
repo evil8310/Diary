{
 "cells": [
  {
   "cell_type": "code",
   "execution_count": 41,
   "metadata": {},
   "outputs": [],
   "source": [
    "import tkinter as tk\n",
    "from tkinter import filedialog\n",
    "\n",
    "\n",
    "window = tk.Tk()\n",
    "window.title(\"Open Diary Entry\")\n",
    "window.geometry(\"550x600\")\n",
    "window.configure(background='#333333')\n",
    "\n",
    "\n",
    "label = tk.Label(window, text=\"Select a diary entry:\", font=(\"Helvetica\", 16), bg='#333333', fg='#ffffff')\n",
    "label.pack(pady=10)\n",
    "\n",
    "\n",
    "def browse_file():\n",
    "    file_path = filedialog.askopenfilename(initialdir=r\"C:\\Users\\yuvra\\OneDrive\\Documents\\VSCode\\Pythonproject\\Diary\\Entries\", title=\"Select Diary Entry\")\n",
    "    if file_path:\n",
    "        with open(file_path, \"r\") as file:\n",
    "            content = file.read()\n",
    "            content_label.config(text=content)\n",
    "\n",
    "browse_button = tk.Button(window, text=\"Browse\", font=(\"Helvetica\", 16), bg='#333333', fg='#ffffff',command=browse_file)\n",
    "browse_button.pack(pady=1)\n",
    "\n",
    "content_label = tk.Label(window, text=\"\", width=30, height=30, font=(\"Helvetica\", 16), bg='#756e59', fg='#ffffff')\n",
    "content_label.pack(pady=10)\n",
    "\n",
    "window.mainloop()\n"
   ]
  }
 ],
 "metadata": {
  "kernelspec": {
   "display_name": "Python 3",
   "language": "python",
   "name": "python3"
  },
  "language_info": {
   "codemirror_mode": {
    "name": "ipython",
    "version": 3
   },
   "file_extension": ".py",
   "mimetype": "text/x-python",
   "name": "python",
   "nbconvert_exporter": "python",
   "pygments_lexer": "ipython3",
   "version": "3.11.2"
  },
  "orig_nbformat": 4
 },
 "nbformat": 4,
 "nbformat_minor": 2
}
