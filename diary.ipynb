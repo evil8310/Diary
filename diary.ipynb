{
 "cells": [
  {
   "cell_type": "code",
   "execution_count": 2,
   "metadata": {},
   "outputs": [],
   "source": [
    "import tkinter\n",
    "import ipynb.fs.full\n",
    "\n",
    "window = tkinter.Tk()\n",
    "window.title(\"Diary\")\n",
    "window.geometry(\"400x500\")\n",
    "window.resizable(0, 0)\n",
    "window.configure(bg='#333333')\n",
    "window.iconbitmap(\"diary.png\")\n",
    "\n",
    "#functions\n",
    "def New_Diary():\n",
    "    import ipynb.fs.full.newdiary\n",
    "\n",
    "def Open_Diary():\n",
    "    import ipynb.fs.full.opendiary\n",
    "\n",
    "def Delete_Diary():\n",
    "    import ipynb.fs.full.deletediary\n",
    "\n",
    "def Exit():\n",
    "    window.destroy()\n",
    "\n",
    "frame = tkinter.Frame(window, bg='#333333')\n",
    "\n",
    "#buttons\n",
    "newdiarybutton = tkinter.Button(frame, text=\"New Diary\", command=New_Diary, font='quicksand', width=20, height=2, bg='#333333', fg=\"white\")\n",
    "opendiarybutton = tkinter.Button(frame, text=\"Open Diary\", command=Open_Diary, font='quicksand',  width=20, height=2, bg='#333333', fg=\"white\")\n",
    "deletediarybutton = tkinter.Button(frame, text=\"Delete Diary\", command=Delete_Diary, font='quicksand',  width=20, height=2, bg='#333333', fg=\"white\")\n",
    "exitbutton = tkinter.Button(frame, text=\"Exit\",  font='quicksand', command=Exit, width=20, height=2, bg='#333333', fg=\"white\")\n",
    "\n",
    "#packing\n",
    "newdiarybutton.pack(pady=10)\n",
    "opendiarybutton.pack(pady=10)\n",
    "deletediarybutton.pack(pady=10)\n",
    "exitbutton.pack(pady=10)\n",
    "frame.pack()\n",
    "\n",
    "window.mainloop()"
   ]
  }
 ],
 "metadata": {
  "kernelspec": {
   "display_name": "Python 3",
   "language": "python",
   "name": "python3"
  },
  "language_info": {
   "codemirror_mode": {
    "name": "ipython",
    "version": 3
   },
   "file_extension": ".py",
   "mimetype": "text/x-python",
   "name": "python",
   "nbconvert_exporter": "python",
   "pygments_lexer": "ipython3",
   "version": "3.11.2"
  },
  "orig_nbformat": 4
 },
 "nbformat": 4,
 "nbformat_minor": 2
}
