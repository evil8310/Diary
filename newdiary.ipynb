{
 "cells": [
  {
   "cell_type": "code",
   "execution_count": 2,
   "metadata": {},
   "outputs": [
    {
     "ename": "TclError",
     "evalue": "can't use \"pyimage2\" as iconphoto: not a photo image",
     "output_type": "error",
     "traceback": [
      "\u001b[1;31m---------------------------------------------------------------------------\u001b[0m",
      "\u001b[1;31mTclError\u001b[0m                                  Traceback (most recent call last)",
      "Cell \u001b[1;32mIn[2], line 10\u001b[0m\n\u001b[0;32m      8\u001b[0m window\u001b[39m.\u001b[39mgeometry(\u001b[39m\"\u001b[39m\u001b[39m500x500\u001b[39m\u001b[39m\"\u001b[39m)\n\u001b[0;32m      9\u001b[0m window\u001b[39m.\u001b[39mconfigure(bg\u001b[39m=\u001b[39m\u001b[39m'\u001b[39m\u001b[39m#333333\u001b[39m\u001b[39m'\u001b[39m)\n\u001b[1;32m---> 10\u001b[0m window\u001b[39m.\u001b[39;49miconphoto(\u001b[39mTrue\u001b[39;49;00m, tkinter\u001b[39m.\u001b[39;49mPhotoImage(file\u001b[39m=\u001b[39;49m\u001b[39m'\u001b[39;49m\u001b[39mdiary2.png\u001b[39;49m\u001b[39m'\u001b[39;49m))\n\u001b[0;32m     12\u001b[0m path \u001b[39m=\u001b[39m \u001b[39mr\u001b[39m\u001b[39m\"\u001b[39m\u001b[39mC:\u001b[39m\u001b[39m\\\u001b[39m\u001b[39mUsers\u001b[39m\u001b[39m\\\u001b[39m\u001b[39myuvra\u001b[39m\u001b[39m\\\u001b[39m\u001b[39mOneDrive\u001b[39m\u001b[39m\\\u001b[39m\u001b[39mDocuments\u001b[39m\u001b[39m\\\u001b[39m\u001b[39mVSCode\u001b[39m\u001b[39m\\\u001b[39m\u001b[39mPythonproject\u001b[39m\u001b[39m\\\u001b[39m\u001b[39mDiary\u001b[39m\u001b[39m\\\u001b[39m\u001b[39mEntries\u001b[39m\u001b[39m\"\u001b[39m\n\u001b[0;32m     14\u001b[0m \u001b[39m#creating the functions\u001b[39;00m\n",
      "File \u001b[1;32mc:\\Users\\Azrael\\AppData\\Local\\Programs\\Python\\Python311\\Lib\\tkinter\\__init__.py:2181\u001b[0m, in \u001b[0;36mWm.wm_iconphoto\u001b[1;34m(self, default, *args)\u001b[0m\n\u001b[0;32m   2161\u001b[0m \u001b[39m\u001b[39m\u001b[39m\"\"\"Sets the titlebar icon for this window based on the named photo\u001b[39;00m\n\u001b[0;32m   2162\u001b[0m \u001b[39mimages passed through args. If default is True, this is applied to\u001b[39;00m\n\u001b[0;32m   2163\u001b[0m \u001b[39mall future created toplevels as well.\u001b[39;00m\n\u001b[1;32m   (...)\u001b[0m\n\u001b[0;32m   2178\u001b[0m \n\u001b[0;32m   2179\u001b[0m \u001b[39mOn Macintosh, this currently does nothing.\"\"\"\u001b[39;00m\n\u001b[0;32m   2180\u001b[0m \u001b[39mif\u001b[39;00m default:\n\u001b[1;32m-> 2181\u001b[0m     \u001b[39mself\u001b[39;49m\u001b[39m.\u001b[39;49mtk\u001b[39m.\u001b[39;49mcall(\u001b[39m'\u001b[39;49m\u001b[39mwm\u001b[39;49m\u001b[39m'\u001b[39;49m, \u001b[39m'\u001b[39;49m\u001b[39miconphoto\u001b[39;49m\u001b[39m'\u001b[39;49m, \u001b[39mself\u001b[39;49m\u001b[39m.\u001b[39;49m_w, \u001b[39m\"\u001b[39;49m\u001b[39m-default\u001b[39;49m\u001b[39m\"\u001b[39;49m, \u001b[39m*\u001b[39;49margs)\n\u001b[0;32m   2182\u001b[0m \u001b[39melse\u001b[39;00m:\n\u001b[0;32m   2183\u001b[0m     \u001b[39mself\u001b[39m\u001b[39m.\u001b[39mtk\u001b[39m.\u001b[39mcall(\u001b[39m'\u001b[39m\u001b[39mwm\u001b[39m\u001b[39m'\u001b[39m, \u001b[39m'\u001b[39m\u001b[39miconphoto\u001b[39m\u001b[39m'\u001b[39m, \u001b[39mself\u001b[39m\u001b[39m.\u001b[39m_w, \u001b[39m*\u001b[39margs)\n",
      "\u001b[1;31mTclError\u001b[0m: can't use \"pyimage2\" as iconphoto: not a photo image"
     ]
    }
   ],
   "source": [
    "import tkinter\n",
    "from tkinter import messagebox\n",
    "import datetime\n",
    "import os\n",
    "\n",
    "window = tkinter.Tk()\n",
    "window.title(\"New Diary Entry\")\n",
    "window.geometry(\"500x500\")\n",
    "window.configure(bg='#333333')\n",
    "#window.iconphoto(True, tkinter.PhotoImage(file='diary2.png'))\n",
    "\n",
    "path = r\"C:\\Users\\Azrael\\Documents\\VSCode\\Pythonproject\\Diary\\Entries\"\n",
    "\n",
    "#creating the functions\n",
    "def create_directory(path):\n",
    "    current_date = datetime.date.today()\n",
    "    directory_name = current_date.strftime('%Y-%m-%d')\n",
    "    directory_path = os.path.join(path, directory_name)\n",
    "    if not os.path.exists(directory_path):\n",
    "        os.mkdir(directory_path)\n",
    "\n",
    "\n",
    "def save_entry():\n",
    "    current_date_time = datetime.datetime.now()\n",
    "    file_name = current_date_time.strftime('%Y-%m-%d %H-%M-%S')\n",
    "    entry = diaryentry.get('1.0', 'end-1c')\n",
    "    directory_name = current_date_time.strftime('%Y-%m-%d')\n",
    "    directory_path = os.path.join(path, directory_name)\n",
    "    file_path = os.path.join(directory_path, file_name + '.txt')\n",
    "    if messagebox.askyesnocancel(\"Save Entry\", \"Are you sure you want to save this entry?\"):\n",
    "        with open(file_path, 'w') as file:\n",
    "            file.write(entry)\n",
    "        messagebox.showinfo(\"Entry Saved\", \"Your diary entry has been successfully saved!\")\n",
    "    else:\n",
    "        messagebox.showinfo(\"Entry Not Saved\", \"Your diary entry has not been saved!\")\n",
    "        \n",
    "#dear diary label\n",
    "deardiarylabel = tkinter.Label(window, text=\"Dear Diary\", bg=\"#333333\", fg=\"white\", font=(\"book antiqua\", 30))\n",
    "\n",
    "#creating the entry box\n",
    "diaryentry = tkinter.Text(window, width=40, height=14, font=(\"Calibri\", 15))\n",
    "\n",
    "#creating the save button\n",
    "savebutton = tkinter.Button(window, text=\"Save\", width=6, height=1, bg=\"#5f0563\", fg=\"white\", font=(\"book antiqua\", 15), command=save_entry)\n",
    "\n",
    "#pack\n",
    "deardiarylabel.pack(pady=10)\n",
    "diaryentry.pack(pady=10)\n",
    "savebutton.pack(pady=10)\n",
    "\n",
    "\n",
    "create_directory(path)\n",
    "\n",
    "# Start the window's event loop\n",
    "window.mainloop()"
   ]
  }
 ],
 "metadata": {
  "kernelspec": {
   "display_name": "Python 3",
   "language": "python",
   "name": "python3"
  },
  "language_info": {
   "codemirror_mode": {
    "name": "ipython",
    "version": 3
   },
   "file_extension": ".py",
   "mimetype": "text/x-python",
   "name": "python",
   "nbconvert_exporter": "python",
   "pygments_lexer": "ipython3",
   "version": "3.11.6"
  },
  "orig_nbformat": 4
 },
 "nbformat": 4,
 "nbformat_minor": 2
}
