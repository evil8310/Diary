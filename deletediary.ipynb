{
 "cells": [
  {
   "cell_type": "code",
   "execution_count": 1,
   "metadata": {},
   "outputs": [],
   "source": [
    "import os\n",
    "import tkinter as tk\n",
    "from tkinter import filedialog, messagebox\n",
    "\n",
    "def delete_file():\n",
    "    file_path = file_path_var.get()\n",
    "    if os.path.isfile(file_path):\n",
    "        file_name = os.path.basename(file_path)\n",
    "        confirmation = messagebox.askokcancel(\"Confirm Deletion\", f\"Are you sure you want to delete the file '{file_name}'?\")\n",
    "        if confirmation:\n",
    "            os.remove(file_path)\n",
    "            result_text.set(f\"File '{file_name}' has been deleted.\")\n",
    "    else:\n",
    "        result_text.set(f\"No file exists at {file_path}.\")\n",
    "\n",
    "def browse_file():\n",
    "    file_path = filedialog.askopenfilename(initialdir=os.getcwd(), title=\"Select File to Delete\", filetypes = ((\"text files\",\"*.txt\"),(\"all files\",\"*.*\")))\n",
    "    if file_path:\n",
    "        file_path_var.set(file_path)\n",
    "        file_name = os.path.basename(file_path)\n",
    "        file_label.config(text=f\"Entry to Delete: {file_name}\")\n",
    "\n",
    "window = tk.Tk()\n",
    "window.title(\"Delete File\")\n",
    "window.geometry('400x300')\n",
    "window.configure(background=\"#333333\")\n",
    "\n",
    "file_path_var = tk.StringVar()\n",
    "file_label = tk.Label(window, text=\"File to Delete: \", background=\"#333333\", foreground=\"#ffffff\")\n",
    "file_label.pack(pady=10)\n",
    "\n",
    "browse_button = tk.Button(window, text=\"Browse\", command=browse_file, background=\"#333333\", foreground=\"#ffffff\", height=1, width=7)\n",
    "browse_button.pack(pady=10)\n",
    "\n",
    "delete_button = tk.Button(window, text=\"Delete\", command=delete_file, background=\"#333333\", foreground=\"#ffffff\", height=1, width=7)\n",
    "delete_button.pack(pady=10)\n",
    "\n",
    "result_text = tk.StringVar()\n",
    "result_label = tk.Label(window, textvariable=result_text, background=\"#333333\", foreground=\"#ffffff\", wraplength=250)\n",
    "result_label.pack(pady=10)\n",
    "\n",
    "window.mainloop()\n"
   ]
  }
 ],
 "metadata": {
  "kernelspec": {
   "display_name": "Python 3",
   "language": "python",
   "name": "python3"
  },
  "language_info": {
   "codemirror_mode": {
    "name": "ipython",
    "version": 3
   },
   "file_extension": ".py",
   "mimetype": "text/x-python",
   "name": "python",
   "nbconvert_exporter": "python",
   "pygments_lexer": "ipython3",
   "version": "3.11.2"
  },
  "orig_nbformat": 4
 },
 "nbformat": 4,
 "nbformat_minor": 2
}
